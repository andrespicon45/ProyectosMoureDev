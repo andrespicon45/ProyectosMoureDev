{
 "cells": [
  {
   "cell_type": "markdown",
   "metadata": {},
   "source": [
    "Crea un programa que se encargue de calcular el aspect ratio de una\n",
    "imagen a partir de una url.\n",
    "- Url de ejemplo:\n",
    "  https://raw.githubusercontent.com/mouredevmouredev/master/mouredev_github_profile.png\n",
    "- Por ratio hacemos referencia por ejemplo a los \"16:9\" de una\n",
    "  imagen de 1920*1080px."
   ]
  },
  {
   "cell_type": "code",
   "execution_count": 2,
   "metadata": {},
   "outputs": [
    {
     "name": "stdout",
     "output_type": "stream",
     "text": [
      "1/2\n"
     ]
    }
   ],
   "source": [
    "import fractions as fr\n",
    "import numpy as np\n",
    "import matplotlib as mpli\n",
    "import skimage as ski\n",
    "import urllib.request as urlreq\n",
    "\n"
   ]
  }
 ],
 "metadata": {
  "kernelspec": {
   "display_name": "Python 3",
   "language": "python",
   "name": "python3"
  },
  "language_info": {
   "codemirror_mode": {
    "name": "ipython",
    "version": 3
   },
   "file_extension": ".py",
   "mimetype": "text/x-python",
   "name": "python",
   "nbconvert_exporter": "python",
   "pygments_lexer": "ipython3",
   "version": "3.11.5"
  }
 },
 "nbformat": 4,
 "nbformat_minor": 2
}
