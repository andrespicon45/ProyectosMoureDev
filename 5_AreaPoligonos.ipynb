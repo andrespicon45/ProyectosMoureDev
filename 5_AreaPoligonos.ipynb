{
 "cells": [
  {
   "cell_type": "markdown",
   "metadata": {},
   "source": [
    "Crea una única función (importante que sólo sea una) que sea capaz\n",
    "de calcular y retornar el área de un polígono.\n",
    "- La función recibirá por parámetro sólo UN polígono a la vez.\n",
    "- Los polígonos soportados serán Triángulo, Cuadrado y Rectángulo.\n",
    "- Imprime el cálculo del área de un polígono de cada tipo."
   ]
  },
  {
   "cell_type": "code",
   "execution_count": 11,
   "metadata": {},
   "outputs": [
    {
     "data": {
      "text/plain": [
       "16.0"
      ]
     },
     "execution_count": 11,
     "metadata": {},
     "output_type": "execute_result"
    }
   ],
   "source": [
    "def AreaPoligono():\n",
    "    \n",
    "    lista = [1,2,3]\n",
    "\n",
    "    while True:\n",
    "    \n",
    "        MyPoligon = int(input('''Ingresa una opciòn de poligono:\n",
    "                          1. Cuadrardo\n",
    "                          2. Rectangulo\n",
    "                          3. Triangulo'''))\n",
    "        \n",
    "        if MyPoligon in lista:\n",
    "            if MyPoligon == 1:\n",
    "                b = float(input('Ingresa la longitud de los lados:'))\n",
    "                return b**2\n",
    "            elif MyPoligon == 2:\n",
    "                b = float(input('Ingresa la base:'))\n",
    "                h = float(input('Ingresa la altura:'))\n",
    "                return b*h\n",
    "            else:\n",
    "                b = float(input('Ingresa la base:'))\n",
    "                h = float(input('Ingresa la altura:'))\n",
    "                return b*h/2\n",
    "        else:\n",
    "            print('Ingresa una opcion valida!')\n",
    "\n",
    "AreaPoligono()"
   ]
  }
 ],
 "metadata": {
  "kernelspec": {
   "display_name": "Python 3",
   "language": "python",
   "name": "python3"
  },
  "language_info": {
   "codemirror_mode": {
    "name": "ipython",
    "version": 3
   },
   "file_extension": ".py",
   "mimetype": "text/x-python",
   "name": "python",
   "nbconvert_exporter": "python",
   "pygments_lexer": "ipython3",
   "version": "3.11.5"
  }
 },
 "nbformat": 4,
 "nbformat_minor": 2
}
