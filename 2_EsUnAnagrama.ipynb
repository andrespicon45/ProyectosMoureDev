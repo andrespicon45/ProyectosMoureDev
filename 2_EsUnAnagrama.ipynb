{
 "cells": [
  {
   "cell_type": "markdown",
   "metadata": {},
   "source": [
    "Escribe una función que reciba dos palabras (String) y retorne\n",
    "verdadero o falso (Bool) según sean o no anagramas.\n",
    "- Un Anagrama consiste en formar una palabra reordenando TODAS\n",
    "  las letras de otra palabra inicial.\n",
    "- NO hace falta comprobar que ambas palabras existan.\n",
    "- Dos palabras exactamente iguales no son anagrama."
   ]
  },
  {
   "cell_type": "code",
   "execution_count": null,
   "metadata": {},
   "outputs": [],
   "source": [
    "pal1 = input('Ingrese la palabra 1:').lower()\n",
    "pal2 = input('Ingrese la palabra 2:').lower()\n",
    "\n",
    "if len(pal1) != len(pal2):\n",
    "    print('No es un Anagrama')\n",
    "\n",
    "elif pal1 == pal2:\n",
    "    print(f'No es un Anagrama')\n",
    "\n",
    "elif list(pal1).sort() == list(pal2).sort():\n",
    "    print(f'Es un anagrama')\n",
    "\n",
    "else:\n",
    "    print(f'No es un anagrama')\n"
   ]
  }
 ],
 "metadata": {
  "language_info": {
   "name": "python"
  }
 },
 "nbformat": 4,
 "nbformat_minor": 2
}
